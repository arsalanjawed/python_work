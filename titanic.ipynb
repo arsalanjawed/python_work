{
  "nbformat": 4,
  "nbformat_minor": 0,
  "metadata": {
    "colab": {
      "provenance": []
    },
    "kernelspec": {
      "name": "python3",
      "display_name": "Python 3"
    },
    "language_info": {
      "name": "python"
    }
  },
  "cells": [
    {
      "cell_type": "code",
      "execution_count": null,
      "metadata": {
        "id": "6d8pFVRFHp1M"
      },
      "outputs": [],
      "source": [
        "import pandas as pd\n",
        "import numpy as np\n",
        "import seaborn as sns\n",
        "from sklearn.model_selection import train_test_split\n",
        "from sklearn.impute import SimpleImputer\n",
        "from sklearn.pipeline import Pipeline\n",
        "from sklearn.compose import ColumnTransformer\n",
        "from sklearn.preprocessing import StandardScaler, OneHotEncoder\n",
        "from sklearn.linear_model import LogisticRegression\n",
        "from sklearn.svm import SVC\n",
        "from sklearn.model_selection import cross_val_score\n",
        "from sklearn.metrics import accuracy_score\n",
        "from joblib import dump"
      ]
    },
    {
      "cell_type": "markdown",
      "source": [
        "#Load the data and carry out initial exploration"
      ],
      "metadata": {
        "id": "JmciFtTgO6gi"
      }
    },
    {
      "cell_type": "code",
      "source": [
        "# load csv in a dataframe\n",
        "df_ahmed = pd.read_csv('titanic_midterm_comp247.csv')"
      ],
      "metadata": {
        "id": "vDb3uM7ONkIa"
      },
      "execution_count": null,
      "outputs": []
    },
    {
      "cell_type": "code",
      "source": [
        "# read first 5 rows of dataset\n",
        "df_ahmed.head()"
      ],
      "metadata": {
        "colab": {
          "base_uri": "https://localhost:8080/",
          "height": 206
        },
        "id": "rAFMvQxUN5XO",
        "outputId": "2f60b01f-e7da-42e6-d9d4-f60eb1044a4c"
      },
      "execution_count": null,
      "outputs": [
        {
          "output_type": "execute_result",
          "data": {
            "text/plain": [
              "   pclass     sex      age  sibsp  parch      fare embarked  survived\n",
              "0       1  female  29.0000      0      0  211.3375        S         1\n",
              "1       1    male   0.9167      1      2  151.5500        S         1\n",
              "2       1  female   2.0000      1      2  151.5500        S         0\n",
              "3       1    male  30.0000      1      2  151.5500        S         0\n",
              "4       1  female  25.0000      1      2  151.5500        S         0"
            ],
            "text/html": [
              "\n",
              "  <div id=\"df-a1d3a66d-0799-4a1f-b829-eb42c4489beb\">\n",
              "    <div class=\"colab-df-container\">\n",
              "      <div>\n",
              "<style scoped>\n",
              "    .dataframe tbody tr th:only-of-type {\n",
              "        vertical-align: middle;\n",
              "    }\n",
              "\n",
              "    .dataframe tbody tr th {\n",
              "        vertical-align: top;\n",
              "    }\n",
              "\n",
              "    .dataframe thead th {\n",
              "        text-align: right;\n",
              "    }\n",
              "</style>\n",
              "<table border=\"1\" class=\"dataframe\">\n",
              "  <thead>\n",
              "    <tr style=\"text-align: right;\">\n",
              "      <th></th>\n",
              "      <th>pclass</th>\n",
              "      <th>sex</th>\n",
              "      <th>age</th>\n",
              "      <th>sibsp</th>\n",
              "      <th>parch</th>\n",
              "      <th>fare</th>\n",
              "      <th>embarked</th>\n",
              "      <th>survived</th>\n",
              "    </tr>\n",
              "  </thead>\n",
              "  <tbody>\n",
              "    <tr>\n",
              "      <th>0</th>\n",
              "      <td>1</td>\n",
              "      <td>female</td>\n",
              "      <td>29.0000</td>\n",
              "      <td>0</td>\n",
              "      <td>0</td>\n",
              "      <td>211.3375</td>\n",
              "      <td>S</td>\n",
              "      <td>1</td>\n",
              "    </tr>\n",
              "    <tr>\n",
              "      <th>1</th>\n",
              "      <td>1</td>\n",
              "      <td>male</td>\n",
              "      <td>0.9167</td>\n",
              "      <td>1</td>\n",
              "      <td>2</td>\n",
              "      <td>151.5500</td>\n",
              "      <td>S</td>\n",
              "      <td>1</td>\n",
              "    </tr>\n",
              "    <tr>\n",
              "      <th>2</th>\n",
              "      <td>1</td>\n",
              "      <td>female</td>\n",
              "      <td>2.0000</td>\n",
              "      <td>1</td>\n",
              "      <td>2</td>\n",
              "      <td>151.5500</td>\n",
              "      <td>S</td>\n",
              "      <td>0</td>\n",
              "    </tr>\n",
              "    <tr>\n",
              "      <th>3</th>\n",
              "      <td>1</td>\n",
              "      <td>male</td>\n",
              "      <td>30.0000</td>\n",
              "      <td>1</td>\n",
              "      <td>2</td>\n",
              "      <td>151.5500</td>\n",
              "      <td>S</td>\n",
              "      <td>0</td>\n",
              "    </tr>\n",
              "    <tr>\n",
              "      <th>4</th>\n",
              "      <td>1</td>\n",
              "      <td>female</td>\n",
              "      <td>25.0000</td>\n",
              "      <td>1</td>\n",
              "      <td>2</td>\n",
              "      <td>151.5500</td>\n",
              "      <td>S</td>\n",
              "      <td>0</td>\n",
              "    </tr>\n",
              "  </tbody>\n",
              "</table>\n",
              "</div>\n",
              "      <button class=\"colab-df-convert\" onclick=\"convertToInteractive('df-a1d3a66d-0799-4a1f-b829-eb42c4489beb')\"\n",
              "              title=\"Convert this dataframe to an interactive table.\"\n",
              "              style=\"display:none;\">\n",
              "        \n",
              "  <svg xmlns=\"http://www.w3.org/2000/svg\" height=\"24px\"viewBox=\"0 0 24 24\"\n",
              "       width=\"24px\">\n",
              "    <path d=\"M0 0h24v24H0V0z\" fill=\"none\"/>\n",
              "    <path d=\"M18.56 5.44l.94 2.06.94-2.06 2.06-.94-2.06-.94-.94-2.06-.94 2.06-2.06.94zm-11 1L8.5 8.5l.94-2.06 2.06-.94-2.06-.94L8.5 2.5l-.94 2.06-2.06.94zm10 10l.94 2.06.94-2.06 2.06-.94-2.06-.94-.94-2.06-.94 2.06-2.06.94z\"/><path d=\"M17.41 7.96l-1.37-1.37c-.4-.4-.92-.59-1.43-.59-.52 0-1.04.2-1.43.59L10.3 9.45l-7.72 7.72c-.78.78-.78 2.05 0 2.83L4 21.41c.39.39.9.59 1.41.59.51 0 1.02-.2 1.41-.59l7.78-7.78 2.81-2.81c.8-.78.8-2.07 0-2.86zM5.41 20L4 18.59l7.72-7.72 1.47 1.35L5.41 20z\"/>\n",
              "  </svg>\n",
              "      </button>\n",
              "      \n",
              "  <style>\n",
              "    .colab-df-container {\n",
              "      display:flex;\n",
              "      flex-wrap:wrap;\n",
              "      gap: 12px;\n",
              "    }\n",
              "\n",
              "    .colab-df-convert {\n",
              "      background-color: #E8F0FE;\n",
              "      border: none;\n",
              "      border-radius: 50%;\n",
              "      cursor: pointer;\n",
              "      display: none;\n",
              "      fill: #1967D2;\n",
              "      height: 32px;\n",
              "      padding: 0 0 0 0;\n",
              "      width: 32px;\n",
              "    }\n",
              "\n",
              "    .colab-df-convert:hover {\n",
              "      background-color: #E2EBFA;\n",
              "      box-shadow: 0px 1px 2px rgba(60, 64, 67, 0.3), 0px 1px 3px 1px rgba(60, 64, 67, 0.15);\n",
              "      fill: #174EA6;\n",
              "    }\n",
              "\n",
              "    [theme=dark] .colab-df-convert {\n",
              "      background-color: #3B4455;\n",
              "      fill: #D2E3FC;\n",
              "    }\n",
              "\n",
              "    [theme=dark] .colab-df-convert:hover {\n",
              "      background-color: #434B5C;\n",
              "      box-shadow: 0px 1px 3px 1px rgba(0, 0, 0, 0.15);\n",
              "      filter: drop-shadow(0px 1px 2px rgba(0, 0, 0, 0.3));\n",
              "      fill: #FFFFFF;\n",
              "    }\n",
              "  </style>\n",
              "\n",
              "      <script>\n",
              "        const buttonEl =\n",
              "          document.querySelector('#df-a1d3a66d-0799-4a1f-b829-eb42c4489beb button.colab-df-convert');\n",
              "        buttonEl.style.display =\n",
              "          google.colab.kernel.accessAllowed ? 'block' : 'none';\n",
              "\n",
              "        async function convertToInteractive(key) {\n",
              "          const element = document.querySelector('#df-a1d3a66d-0799-4a1f-b829-eb42c4489beb');\n",
              "          const dataTable =\n",
              "            await google.colab.kernel.invokeFunction('convertToInteractive',\n",
              "                                                     [key], {});\n",
              "          if (!dataTable) return;\n",
              "\n",
              "          const docLinkHtml = 'Like what you see? Visit the ' +\n",
              "            '<a target=\"_blank\" href=https://colab.research.google.com/notebooks/data_table.ipynb>data table notebook</a>'\n",
              "            + ' to learn more about interactive tables.';\n",
              "          element.innerHTML = '';\n",
              "          dataTable['output_type'] = 'display_data';\n",
              "          await google.colab.output.renderOutput(dataTable, element);\n",
              "          const docLink = document.createElement('div');\n",
              "          docLink.innerHTML = docLinkHtml;\n",
              "          element.appendChild(docLink);\n",
              "        }\n",
              "      </script>\n",
              "    </div>\n",
              "  </div>\n",
              "  "
            ]
          },
          "metadata": {},
          "execution_count": 67
        }
      ]
    },
    {
      "cell_type": "markdown",
      "source": [
        "#Preprocess the Dataset: Clean Data: Find & Mark Missing Values"
      ],
      "metadata": {
        "id": "EC6JA_lOOPOd"
      }
    },
    {
      "cell_type": "code",
      "source": [
        "# Check if any attribute contains missing values\n",
        "# count the number of NaN values in each column\n",
        "print(df_ahmed.isnull().sum().sort_values())"
      ],
      "metadata": {
        "colab": {
          "base_uri": "https://localhost:8080/"
        },
        "id": "P6f4851ROOWU",
        "outputId": "a894743e-17e8-47c4-ce7c-02dd5ebebf15"
      },
      "execution_count": null,
      "outputs": [
        {
          "output_type": "stream",
          "name": "stdout",
          "text": [
            "pclass        0\n",
            "sex           0\n",
            "sibsp         0\n",
            "parch         0\n",
            "survived      0\n",
            "fare          1\n",
            "embarked      2\n",
            "age         263\n",
            "dtype: int64\n"
          ]
        }
      ]
    },
    {
      "cell_type": "code",
      "source": [
        "# print info of dataframe\n",
        "df_ahmed.info()"
      ],
      "metadata": {
        "colab": {
          "base_uri": "https://localhost:8080/"
        },
        "id": "0jnG4JtsOOZP",
        "outputId": "554e1396-11fa-4002-86e6-81da880671d6"
      },
      "execution_count": null,
      "outputs": [
        {
          "output_type": "stream",
          "name": "stdout",
          "text": [
            "<class 'pandas.core.frame.DataFrame'>\n",
            "RangeIndex: 1309 entries, 0 to 1308\n",
            "Data columns (total 8 columns):\n",
            " #   Column    Non-Null Count  Dtype  \n",
            "---  ------    --------------  -----  \n",
            " 0   pclass    1309 non-null   int64  \n",
            " 1   sex       1309 non-null   object \n",
            " 2   age       1046 non-null   float64\n",
            " 3   sibsp     1309 non-null   int64  \n",
            " 4   parch     1309 non-null   int64  \n",
            " 5   fare      1308 non-null   float64\n",
            " 6   embarked  1307 non-null   object \n",
            " 7   survived  1309 non-null   int64  \n",
            "dtypes: float64(2), int64(4), object(2)\n",
            "memory usage: 81.9+ KB\n"
          ]
        }
      ]
    },
    {
      "cell_type": "code",
      "source": [
        "# summary of dataframe\n",
        "df_ahmed.describe()"
      ],
      "metadata": {
        "colab": {
          "base_uri": "https://localhost:8080/",
          "height": 300
        },
        "id": "ok3Dc7UkOOck",
        "outputId": "9619fd93-232e-4807-8565-04c98bff84da"
      },
      "execution_count": null,
      "outputs": [
        {
          "output_type": "execute_result",
          "data": {
            "text/plain": [
              "            pclass          age        sibsp        parch         fare  \\\n",
              "count  1309.000000  1046.000000  1309.000000  1309.000000  1308.000000   \n",
              "mean      2.294882    29.881135     0.498854     0.385027    33.295479   \n",
              "std       0.837836    14.413500     1.041658     0.865560    51.758668   \n",
              "min       1.000000     0.166700     0.000000     0.000000     0.000000   \n",
              "25%       2.000000    21.000000     0.000000     0.000000     7.895800   \n",
              "50%       3.000000    28.000000     0.000000     0.000000    14.454200   \n",
              "75%       3.000000    39.000000     1.000000     0.000000    31.275000   \n",
              "max       3.000000    80.000000     8.000000     9.000000   512.329200   \n",
              "\n",
              "          survived  \n",
              "count  1309.000000  \n",
              "mean      0.381971  \n",
              "std       0.486055  \n",
              "min       0.000000  \n",
              "25%       0.000000  \n",
              "50%       0.000000  \n",
              "75%       1.000000  \n",
              "max       1.000000  "
            ],
            "text/html": [
              "\n",
              "  <div id=\"df-8087375f-245d-49e5-9cae-3a9f52b13936\">\n",
              "    <div class=\"colab-df-container\">\n",
              "      <div>\n",
              "<style scoped>\n",
              "    .dataframe tbody tr th:only-of-type {\n",
              "        vertical-align: middle;\n",
              "    }\n",
              "\n",
              "    .dataframe tbody tr th {\n",
              "        vertical-align: top;\n",
              "    }\n",
              "\n",
              "    .dataframe thead th {\n",
              "        text-align: right;\n",
              "    }\n",
              "</style>\n",
              "<table border=\"1\" class=\"dataframe\">\n",
              "  <thead>\n",
              "    <tr style=\"text-align: right;\">\n",
              "      <th></th>\n",
              "      <th>pclass</th>\n",
              "      <th>age</th>\n",
              "      <th>sibsp</th>\n",
              "      <th>parch</th>\n",
              "      <th>fare</th>\n",
              "      <th>survived</th>\n",
              "    </tr>\n",
              "  </thead>\n",
              "  <tbody>\n",
              "    <tr>\n",
              "      <th>count</th>\n",
              "      <td>1309.000000</td>\n",
              "      <td>1046.000000</td>\n",
              "      <td>1309.000000</td>\n",
              "      <td>1309.000000</td>\n",
              "      <td>1308.000000</td>\n",
              "      <td>1309.000000</td>\n",
              "    </tr>\n",
              "    <tr>\n",
              "      <th>mean</th>\n",
              "      <td>2.294882</td>\n",
              "      <td>29.881135</td>\n",
              "      <td>0.498854</td>\n",
              "      <td>0.385027</td>\n",
              "      <td>33.295479</td>\n",
              "      <td>0.381971</td>\n",
              "    </tr>\n",
              "    <tr>\n",
              "      <th>std</th>\n",
              "      <td>0.837836</td>\n",
              "      <td>14.413500</td>\n",
              "      <td>1.041658</td>\n",
              "      <td>0.865560</td>\n",
              "      <td>51.758668</td>\n",
              "      <td>0.486055</td>\n",
              "    </tr>\n",
              "    <tr>\n",
              "      <th>min</th>\n",
              "      <td>1.000000</td>\n",
              "      <td>0.166700</td>\n",
              "      <td>0.000000</td>\n",
              "      <td>0.000000</td>\n",
              "      <td>0.000000</td>\n",
              "      <td>0.000000</td>\n",
              "    </tr>\n",
              "    <tr>\n",
              "      <th>25%</th>\n",
              "      <td>2.000000</td>\n",
              "      <td>21.000000</td>\n",
              "      <td>0.000000</td>\n",
              "      <td>0.000000</td>\n",
              "      <td>7.895800</td>\n",
              "      <td>0.000000</td>\n",
              "    </tr>\n",
              "    <tr>\n",
              "      <th>50%</th>\n",
              "      <td>3.000000</td>\n",
              "      <td>28.000000</td>\n",
              "      <td>0.000000</td>\n",
              "      <td>0.000000</td>\n",
              "      <td>14.454200</td>\n",
              "      <td>0.000000</td>\n",
              "    </tr>\n",
              "    <tr>\n",
              "      <th>75%</th>\n",
              "      <td>3.000000</td>\n",
              "      <td>39.000000</td>\n",
              "      <td>1.000000</td>\n",
              "      <td>0.000000</td>\n",
              "      <td>31.275000</td>\n",
              "      <td>1.000000</td>\n",
              "    </tr>\n",
              "    <tr>\n",
              "      <th>max</th>\n",
              "      <td>3.000000</td>\n",
              "      <td>80.000000</td>\n",
              "      <td>8.000000</td>\n",
              "      <td>9.000000</td>\n",
              "      <td>512.329200</td>\n",
              "      <td>1.000000</td>\n",
              "    </tr>\n",
              "  </tbody>\n",
              "</table>\n",
              "</div>\n",
              "      <button class=\"colab-df-convert\" onclick=\"convertToInteractive('df-8087375f-245d-49e5-9cae-3a9f52b13936')\"\n",
              "              title=\"Convert this dataframe to an interactive table.\"\n",
              "              style=\"display:none;\">\n",
              "        \n",
              "  <svg xmlns=\"http://www.w3.org/2000/svg\" height=\"24px\"viewBox=\"0 0 24 24\"\n",
              "       width=\"24px\">\n",
              "    <path d=\"M0 0h24v24H0V0z\" fill=\"none\"/>\n",
              "    <path d=\"M18.56 5.44l.94 2.06.94-2.06 2.06-.94-2.06-.94-.94-2.06-.94 2.06-2.06.94zm-11 1L8.5 8.5l.94-2.06 2.06-.94-2.06-.94L8.5 2.5l-.94 2.06-2.06.94zm10 10l.94 2.06.94-2.06 2.06-.94-2.06-.94-.94-2.06-.94 2.06-2.06.94z\"/><path d=\"M17.41 7.96l-1.37-1.37c-.4-.4-.92-.59-1.43-.59-.52 0-1.04.2-1.43.59L10.3 9.45l-7.72 7.72c-.78.78-.78 2.05 0 2.83L4 21.41c.39.39.9.59 1.41.59.51 0 1.02-.2 1.41-.59l7.78-7.78 2.81-2.81c.8-.78.8-2.07 0-2.86zM5.41 20L4 18.59l7.72-7.72 1.47 1.35L5.41 20z\"/>\n",
              "  </svg>\n",
              "      </button>\n",
              "      \n",
              "  <style>\n",
              "    .colab-df-container {\n",
              "      display:flex;\n",
              "      flex-wrap:wrap;\n",
              "      gap: 12px;\n",
              "    }\n",
              "\n",
              "    .colab-df-convert {\n",
              "      background-color: #E8F0FE;\n",
              "      border: none;\n",
              "      border-radius: 50%;\n",
              "      cursor: pointer;\n",
              "      display: none;\n",
              "      fill: #1967D2;\n",
              "      height: 32px;\n",
              "      padding: 0 0 0 0;\n",
              "      width: 32px;\n",
              "    }\n",
              "\n",
              "    .colab-df-convert:hover {\n",
              "      background-color: #E2EBFA;\n",
              "      box-shadow: 0px 1px 2px rgba(60, 64, 67, 0.3), 0px 1px 3px 1px rgba(60, 64, 67, 0.15);\n",
              "      fill: #174EA6;\n",
              "    }\n",
              "\n",
              "    [theme=dark] .colab-df-convert {\n",
              "      background-color: #3B4455;\n",
              "      fill: #D2E3FC;\n",
              "    }\n",
              "\n",
              "    [theme=dark] .colab-df-convert:hover {\n",
              "      background-color: #434B5C;\n",
              "      box-shadow: 0px 1px 3px 1px rgba(0, 0, 0, 0.15);\n",
              "      filter: drop-shadow(0px 1px 2px rgba(0, 0, 0, 0.3));\n",
              "      fill: #FFFFFF;\n",
              "    }\n",
              "  </style>\n",
              "\n",
              "      <script>\n",
              "        const buttonEl =\n",
              "          document.querySelector('#df-8087375f-245d-49e5-9cae-3a9f52b13936 button.colab-df-convert');\n",
              "        buttonEl.style.display =\n",
              "          google.colab.kernel.accessAllowed ? 'block' : 'none';\n",
              "\n",
              "        async function convertToInteractive(key) {\n",
              "          const element = document.querySelector('#df-8087375f-245d-49e5-9cae-3a9f52b13936');\n",
              "          const dataTable =\n",
              "            await google.colab.kernel.invokeFunction('convertToInteractive',\n",
              "                                                     [key], {});\n",
              "          if (!dataTable) return;\n",
              "\n",
              "          const docLinkHtml = 'Like what you see? Visit the ' +\n",
              "            '<a target=\"_blank\" href=https://colab.research.google.com/notebooks/data_table.ipynb>data table notebook</a>'\n",
              "            + ' to learn more about interactive tables.';\n",
              "          element.innerHTML = '';\n",
              "          dataTable['output_type'] = 'display_data';\n",
              "          await google.colab.output.renderOutput(dataTable, element);\n",
              "          const docLink = document.createElement('div');\n",
              "          docLink.innerHTML = docLinkHtml;\n",
              "          element.appendChild(docLink);\n",
              "        }\n",
              "      </script>\n",
              "    </div>\n",
              "  </div>\n",
              "  "
            ]
          },
          "metadata": {},
          "execution_count": 70
        }
      ]
    },
    {
      "cell_type": "code",
      "source": [
        "#print datatypes of each variables\n",
        "df_ahmed.dtypes"
      ],
      "metadata": {
        "colab": {
          "base_uri": "https://localhost:8080/"
        },
        "id": "3GLWpaB8Oobi",
        "outputId": "54c35177-b2ad-411f-f09c-db019581df03"
      },
      "execution_count": null,
      "outputs": [
        {
          "output_type": "execute_result",
          "data": {
            "text/plain": [
              "pclass        int64\n",
              "sex          object\n",
              "age         float64\n",
              "sibsp         int64\n",
              "parch         int64\n",
              "fare        float64\n",
              "embarked     object\n",
              "survived      int64\n",
              "dtype: object"
            ]
          },
          "metadata": {},
          "execution_count": 71
        }
      ]
    },
    {
      "cell_type": "code",
      "source": [
        "# print number of records in a dataframe\n",
        "df_ahmed.size"
      ],
      "metadata": {
        "colab": {
          "base_uri": "https://localhost:8080/"
        },
        "id": "2ku_4fjfU33j",
        "outputId": "bc50e2db-3bb9-44d2-bf4f-b96697d6949c"
      },
      "execution_count": null,
      "outputs": [
        {
          "output_type": "execute_result",
          "data": {
            "text/plain": [
              "10472"
            ]
          },
          "metadata": {},
          "execution_count": 72
        }
      ]
    },
    {
      "cell_type": "code",
      "source": [
        "# number of people survived in titanic\n",
        "df_ahmed[\"survived\"].value_counts()"
      ],
      "metadata": {
        "colab": {
          "base_uri": "https://localhost:8080/"
        },
        "id": "NrcNj6PFN_Hm",
        "outputId": "3b62cb82-a3c4-489d-aa39-04760f6618ce"
      },
      "execution_count": null,
      "outputs": [
        {
          "output_type": "execute_result",
          "data": {
            "text/plain": [
              "0    809\n",
              "1    500\n",
              "Name: survived, dtype: int64"
            ]
          },
          "metadata": {},
          "execution_count": 73
        }
      ]
    },
    {
      "cell_type": "markdown",
      "source": [
        "#Summarize your findings in the below box, make sure to use your own words and give a full picture of the dataset."
      ],
      "metadata": {
        "id": "Fc5GSAlgPAR0"
      }
    },
    {
      "cell_type": "markdown",
      "source": [
        "I had find that we have 2 classes in our dataset 0 and 1. Total number of records in our dataset are 10472 in which 809 belongs to class 0 and 500 belongs to class 1. We have both categorical and numeric features in our dataset. After data analysis I had found that we have 263 missing values or null values in column age, fare also have 1 null value and\n",
        "embarked also contain 2 null values. Our main aim is to predict whether a passengers will survived or not without the help on given features."
      ],
      "metadata": {
        "id": "73mB9F0oPBLq"
      }
    },
    {
      "cell_type": "markdown",
      "source": [
        "#Generate a pairplot showing the relationship between the all the columns, take a screenshot."
      ],
      "metadata": {
        "id": "4jKq6x9jPEtI"
      }
    },
    {
      "cell_type": "code",
      "source": [
        "#create pairplot of dataframe\n",
        "sns.pairplot(df_ahmed)"
      ],
      "metadata": {
        "colab": {
          "base_uri": "https://localhost:8080/",
          "height": 1000
        },
        "id": "CC9pD1cfPBaE",
        "outputId": "850e33f9-d07d-419f-c1e9-bc08b67f81b2"
      },
      "execution_count": null,
      "outputs": [
        {
          "output_type": "execute_result",
          "data": {
            "text/plain": [
              "<seaborn.axisgrid.PairGrid at 0x7f0b0713a280>"
            ]
          },
          "metadata": {},
          "execution_count": 74
        },
        {
          "output_type": "display_data",
          "data": {
            "text/plain": [
              "<Figure size 1080x1080 with 42 Axes>"
            ],
            "image/png": "[encoded data removed]"
          },
          "metadata": {
            "needs_background": "light"
          }
        }
      ]
    },
    {
      "cell_type": "markdown",
      "source": [
        "#Prepare the data for machine learning"
      ],
      "metadata": {
        "id": "WcPUr_GSP3hO"
      }
    },
    {
      "cell_type": "markdown",
      "source": [
        "##Separate the features from the target class. Name the features dataframe df_firstname_features and name the target df_firstname_target."
      ],
      "metadata": {
        "id": "KdpcHTnWP-O6"
      }
    },
    {
      "cell_type": "code",
      "source": [
        "# Separate dataframe into input and output components by slicing\n",
        "#attributes\n",
        "df_ahmed_features = df_ahmed.drop(['survived'], axis=1)\n",
        "#labels\n",
        "df_ahmed_target = df_ahmed['survived']"
      ],
      "metadata": {
        "id": "VCDQ1pRuPP1K"
      },
      "execution_count": null,
      "outputs": []
    },
    {
      "cell_type": "markdown",
      "source": [
        "##Split the data into 75% for training and 25% for testing, set the random seed to the last two digits of your student id."
      ],
      "metadata": {
        "id": "zITUYR1wQfCw"
      }
    },
    {
      "cell_type": "code",
      "source": [
        "# Split the dataset --> training sub-dataset: 75%; test sub-dataset: 25%\n",
        "# Selection of records to include in which sub-dataset must be done randomly\n",
        "# Use this seed for randomization\n",
        "# Split the dataset (both input & outout) into training/testing datasets\n",
        "X_train, X_test, y_train, y_test = train_test_split(df_ahmed_features, df_ahmed_target, test_size=0.25, random_state=22)"
      ],
      "metadata": {
        "id": "qlxDG2niQfwU"
      },
      "execution_count": null,
      "outputs": []
    },
    {
      "cell_type": "markdown",
      "source": [
        "##  Prepare a pipeline to handle the numeric data columns of the feature space. Name the pipeline num_pipeline_firstname. The pipeline should handle the following steps:\n",
        "            Fill in all the missing values using the median value of each column.\n",
        "            Apply the standard scalar."
      ],
      "metadata": {
        "id": "en2gacINQn8Z"
      }
    },
    {
      "cell_type": "code",
      "source": [
        "#create a pipeline to handle numeric data\n",
        "num_pipeline_ahmed = Pipeline([\n",
        "    ('imputer', SimpleImputer(strategy=\"median\")),\n",
        "    ('std_scaler', StandardScaler())\n",
        "])"
      ],
      "metadata": {
        "id": "ktq-lTdqQpaN"
      },
      "execution_count": null,
      "outputs": []
    },
    {
      "cell_type": "markdown",
      "source": [
        "##Prepare another pipeline to handle the all the categorical data of the feature space. Name the pipeline cat_pipeline_firstname. The pipeline should handle the following steps:\n",
        "            Fill in all the missing values using the most frequently used value of each column.\n",
        "            Apply one hot encoding for categorical data."
      ],
      "metadata": {
        "id": "7CH4zD4EQxRr"
      }
    },
    {
      "cell_type": "code",
      "source": [
        "#create a pipeline to handle categorical data\n",
        "cat_pipeline_ahmed = Pipeline([\n",
        "    ('imputer', SimpleImputer(strategy=\"most_frequent\")),\n",
        "    ('one_hot_encoder', OneHotEncoder())\n",
        "])"
      ],
      "metadata": {
        "id": "T4Ul1ROIQxwb"
      },
      "execution_count": null,
      "outputs": []
    },
    {
      "cell_type": "markdown",
      "source": [
        "##Prepare a ColumnTransformer pipeline that combines both the above pipelines and the respective feature columns. Name this pipeline full_pipeline_firstname."
      ],
      "metadata": {
        "id": "zUbhLEsfQ50c"
      }
    },
    {
      "cell_type": "code",
      "source": [
        "# column names of numeric and categorical columns\n",
        "num_attribs = ['age', 'fare', 'sibsp', 'parch']\n",
        "cat_attribs = ['sex', 'embarked', 'pclass']\n",
        "\n",
        "#prepare a combine pipeline\n",
        "full_pipeline_ahmed = ColumnTransformer([\n",
        "    ('num', num_pipeline_ahmed, num_attribs),\n",
        "    ('cat', cat_pipeline_ahmed, cat_attribs)\n",
        "])"
      ],
      "metadata": {
        "id": "c8MXmVE8RFE1"
      },
      "execution_count": null,
      "outputs": []
    },
    {
      "cell_type": "markdown",
      "source": [
        "#Use the full pipeline you prepared in step 5 above to fit and transform your training data. Save the transformed data into a dataframe named X_train_transformed."
      ],
      "metadata": {
        "id": "4P321dGjRYII"
      }
    },
    {
      "cell_type": "code",
      "source": [
        "#transform train data through pipeline\n",
        "X_train_transformed = full_pipeline_ahmed.fit_transform(X_train)"
      ],
      "metadata": {
        "id": "0ms_dZH4PP4m"
      },
      "execution_count": null,
      "outputs": []
    },
    {
      "cell_type": "markdown",
      "source": [
        "#build the model"
      ],
      "metadata": {
        "id": "VRXekH9wQ9EW"
      }
    },
    {
      "cell_type": "markdown",
      "source": [
        "#Build one classifier of these:\n",
        "            A logistic regression classifier\n",
        "            A support vector machine classifier\n",
        "        fit the X_train_transformed data with the respective labels to classifier model and generate the following:\n",
        "            Use cross validation on the training and print out the scores.\n",
        "            Print out the mean score."
      ],
      "metadata": {
        "id": "mltA8SsVRr27"
      }
    },
    {
      "cell_type": "markdown",
      "source": [
        "#Logistic Regression Classifier"
      ],
      "metadata": {
        "id": "c6Tm0UBEWseH"
      }
    },
    {
      "cell_type": "code",
      "source": [
        "# call model\n",
        "log_reg_clf = LogisticRegression(random_state=22)\n",
        "#Train the model using the training sets\n",
        "log_reg_clf.fit(X_train_transformed,y_train)\n",
        "\n",
        "# perform cross validation\n",
        "log_reg_scores = cross_val_score(log_reg_clf, X_train_transformed, y_train, cv=5)\n",
        "\n",
        "# print scores\n",
        "print(\"Logistic Regression Scores:\", log_reg_scores)\n",
        "print(\"Mean Score:\", np.mean(log_reg_scores))"
      ],
      "metadata": {
        "colab": {
          "base_uri": "https://localhost:8080/"
        },
        "id": "NhVrN2ONRClJ",
        "outputId": "0f7fcdda-f949-43ab-b7c3-9cfe8d2c0eda"
      },
      "execution_count": null,
      "outputs": [
        {
          "output_type": "stream",
          "name": "stdout",
          "text": [
            "Logistic Regression Scores: [0.7715736  0.81632653 0.78061224 0.79591837 0.78061224]\n",
            "Mean Score: 0.7890085983632031\n"
          ]
        }
      ]
    },
    {
      "cell_type": "markdown",
      "source": [
        "#Support Vector Machine Classifier"
      ],
      "metadata": {
        "id": "ZmQJhsCtW4In"
      }
    },
    {
      "cell_type": "code",
      "source": [
        "# call model\n",
        "svc_clf = SVC(random_state=22)\n",
        "#Train the model using the training sets\n",
        "svc_clf.fit(X_train_transformed,y_train)\n",
        "# perform cross validation\n",
        "svc_scores = cross_val_score(svc_clf, X_train_transformed, y_train, cv=5)\n",
        "# print scores\n",
        "print(\"SVC Scores:\", svc_scores)\n",
        "print(\"Mean Score:\", np.mean(svc_scores))"
      ],
      "metadata": {
        "colab": {
          "base_uri": "https://localhost:8080/"
        },
        "id": "P-irGG10S8jV",
        "outputId": "2eda89e0-8a51-4e79-e40e-18ea6e02db73"
      },
      "execution_count": null,
      "outputs": [
        {
          "output_type": "stream",
          "name": "stdout",
          "text": [
            "SVC Scores: [0.81725888 0.84693878 0.81632653 0.83673469 0.81632653]\n",
            "Mean Score: 0.8267170827721951\n"
          ]
        }
      ]
    },
    {
      "cell_type": "markdown",
      "source": [
        "#Test and save the model                                         \n",
        "        printout the accuracy score.\n",
        "        Take a screenshot to show the results.\n",
        "        Save both the best model and the full pipeline to the disk, and attach the objects to your submission. (Hint:  use joblib dump)"
      ],
      "metadata": {
        "id": "XVHsOEDWRwvR"
      }
    },
    {
      "cell_type": "code",
      "source": [
        "# Test the model and print the accuracy score\n",
        "# first we will tranform our test data\n",
        "X_test_transformed = full_pipeline_ahmed.fit_transform(X_test)\n",
        "# then use model.predict for model prediction\n",
        "y_pred = svc_clf.predict(X_test_transformed)\n",
        "# then compare actual class with predicted class to find accuracy\n",
        "accuracy = accuracy_score(y_test, y_pred)\n",
        "# print accuracy score\n",
        "print((\"Accuracy score: %.2f%%\") % (accuracy*100.0))"
      ],
      "metadata": {
        "colab": {
          "base_uri": "https://localhost:8080/"
        },
        "id": "oa1n62ZpPP7P",
        "outputId": "e3d997d7-8c02-4581-acc6-f560d855450f"
      },
      "execution_count": null,
      "outputs": [
        {
          "output_type": "stream",
          "name": "stdout",
          "text": [
            "Accuracy score: 76.52%\n"
          ]
        }
      ]
    }
  ]
}